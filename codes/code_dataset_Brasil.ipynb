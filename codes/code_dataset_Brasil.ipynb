{
  "nbformat": 4,
  "nbformat_minor": 0,
  "metadata": {
    "colab": {
      "provenance": [],
      "authorship_tag": "ABX9TyNcJ29hdB20pGuKHxwd51VD",
      "include_colab_link": true
    },
    "kernelspec": {
      "name": "python3",
      "display_name": "Python 3"
    },
    "language_info": {
      "name": "python"
    }
  },
  "cells": [
    {
      "cell_type": "markdown",
      "metadata": {
        "id": "view-in-github",
        "colab_type": "text"
      },
      "source": [
        "<a href=\"https://colab.research.google.com/github/bcdmodelos/qualificacao-modelscode/blob/main/CodigosAnalises/code_dataset_Brasil.ipynb\" target=\"_parent\"><img src=\"https://colab.research.google.com/assets/colab-badge.svg\" alt=\"Open In Colab\"/></a>"
      ]
    },
    {
      "cell_type": "markdown",
      "source": [
        "# Dataset Brasil COVID-19 "
      ],
      "metadata": {
        "id": "8W-XPucXuGeM"
      }
    },
    {
      "cell_type": "code",
      "execution_count": null,
      "metadata": {
        "colab": {
          "base_uri": "https://localhost:8080/",
          "height": 597
        },
        "id": "tz1B01mOuFxu",
        "outputId": "b266cd45-c459-44c2-9b13-8b003ffde4d6"
      },
      "outputs": [
        {
          "output_type": "stream",
          "name": "stdout",
          "text": [
            "Index(['epi_week', 'date', 'country', 'state', 'city', 'newDeaths', 'deaths',\n",
            "       'newCases', 'totalCases', 'deathsMS', 'totalCasesMS',\n",
            "       'deaths_per_100k_inhabitants', 'totalCases_per_100k_inhabitants',\n",
            "       'deaths_by_totalCases', 'recovered', 'suspects', 'tests',\n",
            "       'tests_per_100k_inhabitants', 'vaccinated',\n",
            "       'vaccinated_per_100_inhabitants', 'vaccinated_second',\n",
            "       'vaccinated_second_per_100_inhabitants', 'vaccinated_single',\n",
            "       'vaccinated_single_per_100_inhabitants', 'vaccinated_third',\n",
            "       'vaccinated_third_per_100_inhabitants'],\n",
            "      dtype='object')\n"
          ]
        },
        {
          "output_type": "execute_result",
          "data": {
            "text/plain": [
              "            date  totalCases  deaths   suspects   recovered       tests  \\\n",
              "1     2020-02-25           1       0        NaN         NaN         NaN   \n",
              "3     2020-02-26           1       0        NaN         NaN         NaN   \n",
              "5     2020-02-27           1       0        NaN         NaN         NaN   \n",
              "7     2020-02-28           2       0        NaN         NaN         NaN   \n",
              "9     2020-02-29           2       0        NaN         NaN         NaN   \n",
              "...          ...         ...     ...        ...         ...         ...   \n",
              "26389 2022-10-10    34724189  686877  8866327.0  27381416.0  70923215.0   \n",
              "26417 2022-10-11    34731539  686963  8866327.0  27381416.0  70923215.0   \n",
              "26445 2022-10-12    34731539  686963  8866327.0  27381416.0  70923215.0   \n",
              "26473 2022-10-13    34739865  687069  8866327.0  27381416.0  70923215.0   \n",
              "26501 2022-10-14    34746462  687144  8866327.0  27381416.0  70923215.0   \n",
              "\n",
              "        vaccinated  vaccinated_second  activeCases  newVaccinated  \\\n",
              "1              NaN                NaN          NaN            NaN   \n",
              "3              NaN                NaN          NaN            NaN   \n",
              "5              NaN                NaN          NaN            NaN   \n",
              "7              NaN                NaN          NaN            NaN   \n",
              "9              NaN                NaN          NaN            NaN   \n",
              "...            ...                ...          ...            ...   \n",
              "26389  181942206.0        166873680.0    6655896.0          570.0   \n",
              "26417  181942206.0        166873894.0    6663160.0            0.0   \n",
              "26445  181942206.0        166874180.0    6663160.0            0.0   \n",
              "26473  181950580.0        166883894.0    6671380.0         8374.0   \n",
              "26501  181950580.0        166884235.0    6677902.0            0.0   \n",
              "\n",
              "       newVaccinated_second  \n",
              "1                       NaN  \n",
              "3                       NaN  \n",
              "5                       NaN  \n",
              "7                       NaN  \n",
              "9                       NaN  \n",
              "...                     ...  \n",
              "26389                 409.0  \n",
              "26417                 214.0  \n",
              "26445                 286.0  \n",
              "26473                9714.0  \n",
              "26501                 341.0  \n",
              "\n",
              "[963 rows x 11 columns]"
            ],
            "text/html": [
              "\n",
              "  <div id=\"df-236ba914-43ec-4baa-be20-7da20030172b\">\n",
              "    <div class=\"colab-df-container\">\n",
              "      <div>\n",
              "<style scoped>\n",
              "    .dataframe tbody tr th:only-of-type {\n",
              "        vertical-align: middle;\n",
              "    }\n",
              "\n",
              "    .dataframe tbody tr th {\n",
              "        vertical-align: top;\n",
              "    }\n",
              "\n",
              "    .dataframe thead th {\n",
              "        text-align: right;\n",
              "    }\n",
              "</style>\n",
              "<table border=\"1\" class=\"dataframe\">\n",
              "  <thead>\n",
              "    <tr style=\"text-align: right;\">\n",
              "      <th></th>\n",
              "      <th>date</th>\n",
              "      <th>totalCases</th>\n",
              "      <th>deaths</th>\n",
              "      <th>suspects</th>\n",
              "      <th>recovered</th>\n",
              "      <th>tests</th>\n",
              "      <th>vaccinated</th>\n",
              "      <th>vaccinated_second</th>\n",
              "      <th>activeCases</th>\n",
              "      <th>newVaccinated</th>\n",
              "      <th>newVaccinated_second</th>\n",
              "    </tr>\n",
              "  </thead>\n",
              "  <tbody>\n",
              "    <tr>\n",
              "      <th>1</th>\n",
              "      <td>2020-02-25</td>\n",
              "      <td>1</td>\n",
              "      <td>0</td>\n",
              "      <td>NaN</td>\n",
              "      <td>NaN</td>\n",
              "      <td>NaN</td>\n",
              "      <td>NaN</td>\n",
              "      <td>NaN</td>\n",
              "      <td>NaN</td>\n",
              "      <td>NaN</td>\n",
              "      <td>NaN</td>\n",
              "    </tr>\n",
              "    <tr>\n",
              "      <th>3</th>\n",
              "      <td>2020-02-26</td>\n",
              "      <td>1</td>\n",
              "      <td>0</td>\n",
              "      <td>NaN</td>\n",
              "      <td>NaN</td>\n",
              "      <td>NaN</td>\n",
              "      <td>NaN</td>\n",
              "      <td>NaN</td>\n",
              "      <td>NaN</td>\n",
              "      <td>NaN</td>\n",
              "      <td>NaN</td>\n",
              "    </tr>\n",
              "    <tr>\n",
              "      <th>5</th>\n",
              "      <td>2020-02-27</td>\n",
              "      <td>1</td>\n",
              "      <td>0</td>\n",
              "      <td>NaN</td>\n",
              "      <td>NaN</td>\n",
              "      <td>NaN</td>\n",
              "      <td>NaN</td>\n",
              "      <td>NaN</td>\n",
              "      <td>NaN</td>\n",
              "      <td>NaN</td>\n",
              "      <td>NaN</td>\n",
              "    </tr>\n",
              "    <tr>\n",
              "      <th>7</th>\n",
              "      <td>2020-02-28</td>\n",
              "      <td>2</td>\n",
              "      <td>0</td>\n",
              "      <td>NaN</td>\n",
              "      <td>NaN</td>\n",
              "      <td>NaN</td>\n",
              "      <td>NaN</td>\n",
              "      <td>NaN</td>\n",
              "      <td>NaN</td>\n",
              "      <td>NaN</td>\n",
              "      <td>NaN</td>\n",
              "    </tr>\n",
              "    <tr>\n",
              "      <th>9</th>\n",
              "      <td>2020-02-29</td>\n",
              "      <td>2</td>\n",
              "      <td>0</td>\n",
              "      <td>NaN</td>\n",
              "      <td>NaN</td>\n",
              "      <td>NaN</td>\n",
              "      <td>NaN</td>\n",
              "      <td>NaN</td>\n",
              "      <td>NaN</td>\n",
              "      <td>NaN</td>\n",
              "      <td>NaN</td>\n",
              "    </tr>\n",
              "    <tr>\n",
              "      <th>...</th>\n",
              "      <td>...</td>\n",
              "      <td>...</td>\n",
              "      <td>...</td>\n",
              "      <td>...</td>\n",
              "      <td>...</td>\n",
              "      <td>...</td>\n",
              "      <td>...</td>\n",
              "      <td>...</td>\n",
              "      <td>...</td>\n",
              "      <td>...</td>\n",
              "      <td>...</td>\n",
              "    </tr>\n",
              "    <tr>\n",
              "      <th>26389</th>\n",
              "      <td>2022-10-10</td>\n",
              "      <td>34724189</td>\n",
              "      <td>686877</td>\n",
              "      <td>8866327.0</td>\n",
              "      <td>27381416.0</td>\n",
              "      <td>70923215.0</td>\n",
              "      <td>181942206.0</td>\n",
              "      <td>166873680.0</td>\n",
              "      <td>6655896.0</td>\n",
              "      <td>570.0</td>\n",
              "      <td>409.0</td>\n",
              "    </tr>\n",
              "    <tr>\n",
              "      <th>26417</th>\n",
              "      <td>2022-10-11</td>\n",
              "      <td>34731539</td>\n",
              "      <td>686963</td>\n",
              "      <td>8866327.0</td>\n",
              "      <td>27381416.0</td>\n",
              "      <td>70923215.0</td>\n",
              "      <td>181942206.0</td>\n",
              "      <td>166873894.0</td>\n",
              "      <td>6663160.0</td>\n",
              "      <td>0.0</td>\n",
              "      <td>214.0</td>\n",
              "    </tr>\n",
              "    <tr>\n",
              "      <th>26445</th>\n",
              "      <td>2022-10-12</td>\n",
              "      <td>34731539</td>\n",
              "      <td>686963</td>\n",
              "      <td>8866327.0</td>\n",
              "      <td>27381416.0</td>\n",
              "      <td>70923215.0</td>\n",
              "      <td>181942206.0</td>\n",
              "      <td>166874180.0</td>\n",
              "      <td>6663160.0</td>\n",
              "      <td>0.0</td>\n",
              "      <td>286.0</td>\n",
              "    </tr>\n",
              "    <tr>\n",
              "      <th>26473</th>\n",
              "      <td>2022-10-13</td>\n",
              "      <td>34739865</td>\n",
              "      <td>687069</td>\n",
              "      <td>8866327.0</td>\n",
              "      <td>27381416.0</td>\n",
              "      <td>70923215.0</td>\n",
              "      <td>181950580.0</td>\n",
              "      <td>166883894.0</td>\n",
              "      <td>6671380.0</td>\n",
              "      <td>8374.0</td>\n",
              "      <td>9714.0</td>\n",
              "    </tr>\n",
              "    <tr>\n",
              "      <th>26501</th>\n",
              "      <td>2022-10-14</td>\n",
              "      <td>34746462</td>\n",
              "      <td>687144</td>\n",
              "      <td>8866327.0</td>\n",
              "      <td>27381416.0</td>\n",
              "      <td>70923215.0</td>\n",
              "      <td>181950580.0</td>\n",
              "      <td>166884235.0</td>\n",
              "      <td>6677902.0</td>\n",
              "      <td>0.0</td>\n",
              "      <td>341.0</td>\n",
              "    </tr>\n",
              "  </tbody>\n",
              "</table>\n",
              "<p>963 rows × 11 columns</p>\n",
              "</div>\n",
              "      <button class=\"colab-df-convert\" onclick=\"convertToInteractive('df-236ba914-43ec-4baa-be20-7da20030172b')\"\n",
              "              title=\"Convert this dataframe to an interactive table.\"\n",
              "              style=\"display:none;\">\n",
              "        \n",
              "  <svg xmlns=\"http://www.w3.org/2000/svg\" height=\"24px\"viewBox=\"0 0 24 24\"\n",
              "       width=\"24px\">\n",
              "    <path d=\"M0 0h24v24H0V0z\" fill=\"none\"/>\n",
              "    <path d=\"M18.56 5.44l.94 2.06.94-2.06 2.06-.94-2.06-.94-.94-2.06-.94 2.06-2.06.94zm-11 1L8.5 8.5l.94-2.06 2.06-.94-2.06-.94L8.5 2.5l-.94 2.06-2.06.94zm10 10l.94 2.06.94-2.06 2.06-.94-2.06-.94-.94-2.06-.94 2.06-2.06.94z\"/><path d=\"M17.41 7.96l-1.37-1.37c-.4-.4-.92-.59-1.43-.59-.52 0-1.04.2-1.43.59L10.3 9.45l-7.72 7.72c-.78.78-.78 2.05 0 2.83L4 21.41c.39.39.9.59 1.41.59.51 0 1.02-.2 1.41-.59l7.78-7.78 2.81-2.81c.8-.78.8-2.07 0-2.86zM5.41 20L4 18.59l7.72-7.72 1.47 1.35L5.41 20z\"/>\n",
              "  </svg>\n",
              "      </button>\n",
              "      \n",
              "  <style>\n",
              "    .colab-df-container {\n",
              "      display:flex;\n",
              "      flex-wrap:wrap;\n",
              "      gap: 12px;\n",
              "    }\n",
              "\n",
              "    .colab-df-convert {\n",
              "      background-color: #E8F0FE;\n",
              "      border: none;\n",
              "      border-radius: 50%;\n",
              "      cursor: pointer;\n",
              "      display: none;\n",
              "      fill: #1967D2;\n",
              "      height: 32px;\n",
              "      padding: 0 0 0 0;\n",
              "      width: 32px;\n",
              "    }\n",
              "\n",
              "    .colab-df-convert:hover {\n",
              "      background-color: #E2EBFA;\n",
              "      box-shadow: 0px 1px 2px rgba(60, 64, 67, 0.3), 0px 1px 3px 1px rgba(60, 64, 67, 0.15);\n",
              "      fill: #174EA6;\n",
              "    }\n",
              "\n",
              "    [theme=dark] .colab-df-convert {\n",
              "      background-color: #3B4455;\n",
              "      fill: #D2E3FC;\n",
              "    }\n",
              "\n",
              "    [theme=dark] .colab-df-convert:hover {\n",
              "      background-color: #434B5C;\n",
              "      box-shadow: 0px 1px 3px 1px rgba(0, 0, 0, 0.15);\n",
              "      filter: drop-shadow(0px 1px 2px rgba(0, 0, 0, 0.3));\n",
              "      fill: #FFFFFF;\n",
              "    }\n",
              "  </style>\n",
              "\n",
              "      <script>\n",
              "        const buttonEl =\n",
              "          document.querySelector('#df-236ba914-43ec-4baa-be20-7da20030172b button.colab-df-convert');\n",
              "        buttonEl.style.display =\n",
              "          google.colab.kernel.accessAllowed ? 'block' : 'none';\n",
              "\n",
              "        async function convertToInteractive(key) {\n",
              "          const element = document.querySelector('#df-236ba914-43ec-4baa-be20-7da20030172b');\n",
              "          const dataTable =\n",
              "            await google.colab.kernel.invokeFunction('convertToInteractive',\n",
              "                                                     [key], {});\n",
              "          if (!dataTable) return;\n",
              "\n",
              "          const docLinkHtml = 'Like what you see? Visit the ' +\n",
              "            '<a target=\"_blank\" href=https://colab.research.google.com/notebooks/data_table.ipynb>data table notebook</a>'\n",
              "            + ' to learn more about interactive tables.';\n",
              "          element.innerHTML = '';\n",
              "          dataTable['output_type'] = 'display_data';\n",
              "          await google.colab.output.renderOutput(dataTable, element);\n",
              "          const docLink = document.createElement('div');\n",
              "          docLink.innerHTML = docLinkHtml;\n",
              "          element.appendChild(docLink);\n",
              "        }\n",
              "      </script>\n",
              "    </div>\n",
              "  </div>\n",
              "  "
            ]
          },
          "metadata": {},
          "execution_count": 7
        }
      ],
      "source": [
        "import pandas as pd\n",
        "import matplotlib.pyplot as plt\n",
        "import numpy as np\n",
        "\n",
        "df = pd.read_csv(\"https://raw.githubusercontent.com/wcota/covid19br/master/cases-brazil-states.csv\")\n",
        "df['date'] = pd.to_datetime(df['date'])\n",
        "print(df.columns)\n",
        "\n",
        "data_BR = df.query(\"state == 'TOTAL'\")[['date', 'totalCases', 'deaths', 'suspects', 'recovered', 'tests', 'vaccinated', 'vaccinated_second']]\n",
        "data_BR['activeCases'] = data_BR['totalCases'] - data_BR['deaths'] - data_BR['recovered']\n",
        "data_BR['newVaccinated'] = data_BR['vaccinated'].diff()\n",
        "data_BR['newVaccinated_second'] = data_BR['vaccinated_second'].diff()\n",
        "\n",
        "data_BR"
      ]
    },
    {
      "cell_type": "code",
      "source": [
        "data_BR.plot(x=\"date\", y=\"deaths\",xlabel=\"Data\",ylabel=\"Número de Mortos\",label=\"Número Total de Mortos do Brasil\")"
      ],
      "metadata": {
        "colab": {
          "base_uri": "https://localhost:8080/",
          "height": 308
        },
        "id": "dYFx9VmluV_B",
        "outputId": "7871c2d6-b865-4c6b-9f07-c23e28281aaa"
      },
      "execution_count": null,
      "outputs": [
        {
          "output_type": "execute_result",
          "data": {
            "text/plain": [
              "<matplotlib.axes._subplots.AxesSubplot at 0x7f19d496d3d0>"
            ]
          },
          "metadata": {},
          "execution_count": 8
        },
        {
          "output_type": "display_data",
          "data": {
            "text/plain": [
              "<Figure size 432x288 with 1 Axes>"
            ],
            "image/png": "[encoded data removed]"
          },
          "metadata": {
            "needs_background": "light"
          }
        }
      ]
    },
    {
      "cell_type": "code",
      "source": [
        "data_BR.plot(x=\"date\", y=\"totalCases\",xlabel=\"Data\",ylabel=\"Número de Casos (em milhões)\",label=\"Número Total de Casos do Brasil\")"
      ],
      "metadata": {
        "colab": {
          "base_uri": "https://localhost:8080/",
          "height": 319
        },
        "id": "EP9fdXDEuX9x",
        "outputId": "1c853f46-f354-43b4-fd29-879aacb1ae0e"
      },
      "execution_count": null,
      "outputs": [
        {
          "output_type": "execute_result",
          "data": {
            "text/plain": [
              "<matplotlib.axes._subplots.AxesSubplot at 0x7f19d467a750>"
            ]
          },
          "metadata": {},
          "execution_count": 9
        },
        {
          "output_type": "display_data",
          "data": {
            "text/plain": [
              "<Figure size 432x288 with 1 Axes>"
            ],
            "image/png": "[encoded data removed]"
          },
          "metadata": {
            "needs_background": "light"
          }
        }
      ]
    },
    {
      "cell_type": "markdown",
      "source": [
        "Código para baixar arquivo .csv"
      ],
      "metadata": {
        "id": "3AJfhBfMufZD"
      }
    },
    {
      "cell_type": "code",
      "source": [
        "# from google.colab import files\n",
        "# data_BR.to_csv('dataset_Brasil.csv')\n",
        "# files.download('dataset_Brasil.csv')"
      ],
      "metadata": {
        "id": "ORf5bmfjucAZ"
      },
      "execution_count": null,
      "outputs": []
    }
  ]
}